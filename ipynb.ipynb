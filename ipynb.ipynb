{
 "cells": [
  {
   "cell_type": "markdown",
   "metadata": {},
   "source": [
    "# Scrape News Site The Guardian"
   ]
  },
  {
   "cell_type": "markdown",
   "metadata": {},
   "source": [
    "### Import Packages"
   ]
  },
  {
   "cell_type": "code",
   "execution_count": 18,
   "metadata": {},
   "outputs": [],
   "source": [
    "import time\n",
    "import requests\n",
    "import pandas as pd\n",
    "from bs4 import BeautifulSoup"
   ]
  },
  {
   "cell_type": "markdown",
   "metadata": {},
   "source": [
    "### Obtain newslist from homepage"
   ]
  },
  {
   "cell_type": "code",
   "execution_count": 24,
   "metadata": {},
   "outputs": [],
   "source": [
    "def get_homepage():\n",
    "    #url \n",
    "    url = \"https://www.theguardian.com/uk\"\n",
    "\n",
    "    homepage_resp = requests.get(url)\n",
    "    homepage_resp.status_code\n",
    "\n",
    "    homepage_content = homepage_resp.content\n",
    "    homepage_soup = BeautifulSoup(homepage_content, 'html5lib')\n",
    "\n",
    "    homepage_news = homepage_soup.find_all('h3', class_='fc-item__title')\n",
    "    #len(homepage_news)\n",
    "\n",
    "    return homepage_news"
   ]
  },
  {
   "cell_type": "markdown",
   "metadata": {},
   "source": [
    "### Obtain newslist from newslink"
   ]
  },
  {
   "cell_type": "code",
   "execution_count": 31,
   "metadata": {},
   "outputs": [],
   "source": [
    "def get_news(q=None):\n",
    "    homepage_news = get_homepage()\n",
    "    data = []\n",
    "\n",
    "    len_news = len(homepage_news)\n",
    "    \n",
    "    if q and q<len_news:\n",
    "        len_news = q\n",
    "\n",
    "    for n in range(len_news):\n",
    "        if \"live\" in homepage_news[n].find('a')['href']:\n",
    "            continue\n",
    "        \n",
    "        link = homepage_news[n].find('a')['href']    \n",
    "        title = homepage_news[n].find('a').get_text()\n",
    "        \n",
    "        article_resp = requests.get(link)\n",
    "        article_content = article_resp.content\n",
    "        \n",
    "        soup_article = BeautifulSoup(article_content, 'html5lib')\n",
    "        body_article = soup_article.find_all('div', class_='article-body-commercial-selector article-body-viewer-selector dcr-ucgxn1')\n",
    "        \n",
    "        try:\n",
    "            content = \"\"\n",
    "            list_paragraph = []\n",
    "            full_paragraph = body_article[0].find_all('p')\n",
    "            for p in range(0, len(full_paragraph)):\n",
    "                paragraph = full_paragraph[p].get_text()\n",
    "                list_paragraph.append(paragraph)\n",
    "                content = \" \".join(list_paragraph)\n",
    "\n",
    "        except:\n",
    "            pass\n",
    "            #print(link)\n",
    "\n",
    "        date, author, medsoc = 'NA', 'NA', 'NA'\n",
    "        \n",
    "        author_token = ['dcr-igntr1', ' dcr-igntr1', 'dcr-ponjtt', '  dcr-ponjtt', 'dcr-wj7ien', ' dcr-wj7ien', \n",
    "                        'dcr-x4zvo6', ' dcr-x4zvo6', 'dcr-x6uqxm', ' dcr-x6uqxm', 'dcr-1c8zp3f', ' dcr-1c8zp3f', \n",
    "                        'dcr-1g3eqzh', ' dcr-1g3eqzh', 'dcr-1mp5s8u', ' dcr-1mp5s8u','dcr-187adts', ' dcr-187adts', \n",
    "                        'dcr-15zwths', ' dcr-15zwths']\n",
    "        for at in author_token:\n",
    "            if soup_article.find('div', class_=at):\n",
    "                if soup_article.find('div', class_=at).find('a'):\n",
    "                    author = soup_article.find('div', class_=at).find('a').get_text()\n",
    "                else:\n",
    "                    author = soup_article.find('div', class_=at).get_text() \n",
    "            elif soup_article.find('span', class_=at):\n",
    "                if soup_article.find('span', class_=at).find('a'):\n",
    "                    author = soup_article.find('span', class_=at).find('a').get_text()\n",
    "                else:\n",
    "                    author = soup_article.find('span', class_=at).get_text()\n",
    "\n",
    "        date_token = ['dcr-hn0k3p', ' dcr-hn0k3p', 'dcr-km9fgb', ' dcr-km9fgb']\n",
    "        for dt in date_token:\n",
    "            if soup_article.find('label', class_=dt):\n",
    "                date = soup_article.find('label', class_=dt).get_text()\n",
    "            elif soup_article.find('div', class_=dt):\n",
    "                date = soup_article.find('div', class_=dt).get_text()         \n",
    "\n",
    "        medsoc_token = ['dcr-mjksz5', ' dcr-mjksz5']\n",
    "        for mt in medsoc_token:\n",
    "            if soup_article.find('div', class_=mt) and soup_article.find('div', class_=mt).find('a'):\n",
    "                medsoc = soup_article.find('div', class_=mt).find('a').get_text()\n",
    "            elif author != 'NA':\n",
    "                ms = author.lower().replace(' ', '')\n",
    "                medsoc = '@' + ms\n",
    "        \n",
    "        data.append({\n",
    "            \"date\": date,\n",
    "            \"author\": author,\n",
    "            \"medsoc\": medsoc,\n",
    "            \"link\": link,\n",
    "            \"title\": title,\n",
    "            \"content\": content,\n",
    "        })\n",
    "\n",
    "    return data"
   ]
  },
  {
   "cell_type": "markdown",
   "metadata": {},
   "source": [
    "### Time Elapsed"
   ]
  },
  {
   "cell_type": "code",
   "execution_count": 26,
   "metadata": {},
   "outputs": [
    {
     "name": "stdout",
     "output_type": "stream",
     "text": [
      "the time elapsed is 50.9 second\n"
     ]
    }
   ],
   "source": [
    "time_start = time.time()\n",
    "data = get_news()\n",
    "\n",
    "time_end =time.time()\n",
    "te = time_end - time_start\n",
    "\n",
    "df = pd.DataFrame(data)\n",
    "print(\"the time elapsed is %.1f second\" %(te))"
   ]
  },
  {
   "cell_type": "code",
   "execution_count": null,
   "metadata": {},
   "outputs": [],
   "source": [
    "df.to_csv('../csv.csv')\n",
    "df.head(4)"
   ]
  }
 ],
 "metadata": {
  "kernelspec": {
   "display_name": "Python 3",
   "language": "python",
   "name": "python3"
  },
  "language_info": {
   "codemirror_mode": {
    "name": "ipython",
    "version": 3
   },
   "file_extension": ".py",
   "mimetype": "text/x-python",
   "name": "python",
   "nbconvert_exporter": "python",
   "pygments_lexer": "ipython3",
   "version": "3.8.10"
  }
 },
 "nbformat": 4,
 "nbformat_minor": 2
}
