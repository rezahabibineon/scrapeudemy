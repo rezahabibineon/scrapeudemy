{
 "cells": [
  {
   "cell_type": "markdown",
   "metadata": {},
   "source": [
    "# Scrape News Site The Guardian"
   ]
  },
  {
   "cell_type": "markdown",
   "metadata": {},
   "source": [
    "### Import Packages"
   ]
  },
  {
   "cell_type": "code",
   "execution_count": 1,
   "metadata": {},
   "outputs": [],
   "source": [
    "import time\n",
    "import requests\n",
    "import pandas as pd\n",
    "from bs4 import BeautifulSoup"
   ]
  },
  {
   "cell_type": "markdown",
   "metadata": {},
   "source": [
    "### Obtain newslist from homepage"
   ]
  },
  {
   "cell_type": "code",
   "execution_count": 2,
   "metadata": {},
   "outputs": [
    {
     "data": {
      "text/plain": [
       "121"
      ]
     },
     "execution_count": 2,
     "metadata": {},
     "output_type": "execute_result"
    }
   ],
   "source": [
    "#url \n",
    "url = \"https://www.theguardian.com/uk\"\n",
    "\n",
    "homepage_resp = requests.get(url)\n",
    "homepage_resp.status_code\n",
    "\n",
    "homepage_content = homepage_resp.content\n",
    "homepage_soup = BeautifulSoup(homepage_content, 'html5lib')\n",
    "\n",
    "homepage_news = homepage_soup.find_all('h3', class_='fc-item__title')\n",
    "#len(homepage_news)"
   ]
  },
  {
   "cell_type": "markdown",
   "metadata": {},
   "source": [
    "### Obtain newslist from newslink"
   ]
  },
  {
   "cell_type": "code",
   "execution_count": 9,
   "metadata": {},
   "outputs": [],
   "source": [
    "def news_scraper():\n",
    "    data = []\n",
    "    total = len(homepage_news)\n",
    "\n",
    "    for n in range(total):\n",
    "        if \"live\" in homepage_news[n].find('a')['href']:  \n",
    "            continue\n",
    "        \n",
    "        link = homepage_news[n].find('a')['href']    \n",
    "        title = homepage_news[n].find('a').get_text()\n",
    "        \n",
    "        article_resp = requests.get(link)\n",
    "        article_content = article_resp.content\n",
    "        \n",
    "        soup_article = BeautifulSoup(article_content, 'html5lib')\n",
    "        body_article = soup_article.find_all('div', class_='article-body-commercial-selector article-body-viewer-selector dcr-ucgxn1')\n",
    "        \n",
    "        full_paragraph = body_article[0].find_all('p')\n",
    "        list_paragraph = []\n",
    "\n",
    "        for p in range(0, len(full_paragraph)):\n",
    "            paragraph = full_paragraph[p].get_text()\n",
    "            list_paragraph.append(paragraph)\n",
    "            content = \" \".join(list_paragraph)\n",
    "            \n",
    "        data.append({\n",
    "            \"link\": link,\n",
    "            \"title\": title,\n",
    "            \"content\": content,\n",
    "        })\n",
    "\n",
    "    return data"
   ]
  },
  {
   "cell_type": "markdown",
   "metadata": {},
   "source": [
    "### Time Elapsed"
   ]
  },
  {
   "cell_type": "code",
   "execution_count": 7,
   "metadata": {},
   "outputs": [],
   "source": [
    "data = news_scraper()\n",
    "df = pd.DataFrame(data)"
   ]
  },
  {
   "cell_type": "code",
   "execution_count": 12,
   "metadata": {},
   "outputs": [
    {
     "name": "stdout",
     "output_type": "stream",
     "text": [
      "the time elapsed is 2.2 second\n"
     ]
    }
   ],
   "source": [
    "time_start = time.time()\n",
    "data = news_scraper()\n",
    "\n",
    "time_end =time.time()\n",
    "te = time_end - time_start\n",
    "\n",
    "print(\"the time elapsed is %.1f second\" %(te))"
   ]
  }
 ],
 "metadata": {
  "kernelspec": {
   "display_name": "Python 3",
   "language": "python",
   "name": "python3"
  },
  "language_info": {
   "codemirror_mode": {
    "name": "ipython",
    "version": 3
   },
   "file_extension": ".py",
   "mimetype": "text/x-python",
   "name": "python",
   "nbconvert_exporter": "python",
   "pygments_lexer": "ipython3",
   "version": "3.8.10"
  }
 },
 "nbformat": 4,
 "nbformat_minor": 2
}
